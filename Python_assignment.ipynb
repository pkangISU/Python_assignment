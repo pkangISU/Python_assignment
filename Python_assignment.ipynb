{
 "cells": [
  {
   "cell_type": "markdown",
   "metadata": {},
   "source": [
    "# This is my Python assignment work. It is due on Nov.16th, 2018."
   ]
  },
  {
   "cell_type": "markdown",
   "metadata": {},
   "source": [
    "## Prepare the files , repository and major package for the assignment"
   ]
  },
  {
   "cell_type": "markdown",
   "metadata": {},
   "source": [
    "### First I downloaded `sequence_translate.py`,`bears_mass.csv`,`bears_cytb.fasta` and `README.md` from class repository to my own repository on github."
   ]
  },
  {
   "cell_type": "markdown",
   "metadata": {},
   "source": [
    "### Then I created Python_assignment in Jupyter Notebook, which is going to include all my work for my Python assignment."
   ]
  },
  {
   "cell_type": "markdown",
   "metadata": {},
   "source": [
    "### Install BioPython library in the terminal with command $conda install biopython"
   ]
  },
  {
   "cell_type": "markdown",
   "metadata": {},
   "source": [
    "## Note that I use assignments instructions as my direction to work on my assignment. They are numbered as 1 to 11."
   ]
  },
  {
   "cell_type": "markdown",
   "metadata": {},
   "source": [
    "## Get the functions ready for the assignment"
   ]
  },
  {
   "cell_type": "markdown",
   "metadata": {},
   "source": [
    " ### 1. Document Dr. X's function with comments and with markdown text in your Jupyter notebook."
   ]
  },
  {
   "cell_type": "code",
   "execution_count": null,
   "metadata": {},
   "outputs": [],
   "source": [
    "from Bio import SeqIO\n",
    "from Bio.Data import CodonTable\n",
    "import pandas as pd"
   ]
  },
  {
   "cell_type": "code",
   "execution_count": null,
   "metadata": {},
   "outputs": [],
   "source": [
    "import pandas as pd"
   ]
  },
  {
   "cell_type": "code",
   "execution_count": null,
   "metadata": {},
   "outputs": [],
   "source": [
    "def get_sequences_from_file(fasta_fn):#define a function get_sequences_from_file() to get the sequences from the original fasta file.\n",
    "    sequence_data_dict = {}#initialize the dictionary of sequence_data_dict.\n",
    "    for record in SeqIO.parse(fasta_fn, \"fasta\"): # use Biopython's parse function to process individual fasta records\n",
    "        description = record.description.split()# extract the individual parts of the fasta records\n",
    "        species_name = description[1] + \" \" + description[2] # combine colum 1 and column 2 variables as species name\n",
    "        sequence_data_dict[species_name] = record.seq # assign specicies_name as key and record.seq as value in the dictionary.\n",
    "    return(sequence_data_dict)#establish a dictionary including 9 species and their sequences."
   ]
  },
  {
   "cell_type": "code",
   "execution_count": null,
   "metadata": {},
   "outputs": [],
   "source": [
    " sequence_data_dict = get_sequences_from_file('bears_cytb.fasta')#call the function et_sequences_from_file()to import the species names and sequence in the dictionary sequence_data_dict.\n",
    "sequence_data_dict#show the contents of the dictionary of sequence_data_dict."
   ]
  },
  {
   "cell_type": "markdown",
   "metadata": {},
   "source": [
    "### 2. Write a function that translates a string of nucleotides to amino acids based on Dr. X's pseudo-code suggestion."
   ]
  },
  {
   "cell_type": "code",
   "execution_count": null,
   "metadata": {},
   "outputs": [],
   "source": [
    "# The following scripts are addapted from geeksforgeeks.org.\n",
    "def translate(seq):\n",
    "    mito_table = CodonTable.unambiguous_dna_by_name[\"Vertebrate Mitochondrial\"]\n",
    "    protein = \"\" #initialize protein as none\n",
    "    if len(seq)%3 == 0: # check if the DNA is divisible by 3\n",
    "        for i in range(0,len(seq)-3,3):#avoid stop codon by -3\n",
    "            codon = seq[i:i + 3]\n",
    "            #print(codon)#find a function to check if it a stop codon or not for later real projects\n",
    "            protein += mito_table.forward_table[codon]# form the Amino acid sequence\n",
    "    return protein"
   ]
  },
  {
   "cell_type": "code",
   "execution_count": null,
   "metadata": {},
   "outputs": [],
   "source": [
    "#take a look at the codon table and help me understand the process of translation.\n",
    "mito_table = CodonTable.unambiguous_dna_by_name[\"Vertebrate Mitochondrial\"]\n",
    "print(mito_table)"
   ]
  },
  {
   "cell_type": "code",
   "execution_count": null,
   "metadata": {},
   "outputs": [],
   "source": [
    "#check the table function.\n",
    "mito_table.forward_table['ATG']"
   ]
  },
  {
   "cell_type": "code",
   "execution_count": null,
   "metadata": {},
   "outputs": [],
   "source": [
    "#test the function of translate, and it shows only the string of sequence.\n",
    "test_seq = sequence_data_dict['Ursus spelaeus']\n",
    "test_aa_seq_1=translate(test_seq)\n",
    "test_aa_seq_1"
   ]
  },
  {
   "cell_type": "markdown",
   "metadata": {},
   "source": [
    "### 3. Write an alternative translation function."
   ]
  },
  {
   "cell_type": "code",
   "execution_count": null,
   "metadata": {},
   "outputs": [],
   "source": [
    "#The following scripts are adapted from biostars.org.\n",
    "from Bio.Seq import Seq, Alphabet, IUPAC\n",
    "from Bio.Alphabet import IUPAC\n"
   ]
  },
  {
   "cell_type": "code",
   "execution_count": null,
   "metadata": {},
   "outputs": [],
   "source": [
    "#define a function to translate DNA sequence directly using the translate methods in the bio.seq package.\n",
    "def nuc2aa_translate_function(seq):\n",
    "    translated_sequence = seq.translate()\n",
    "    return translated_sequence\n"
   ]
  },
  {
   "cell_type": "code",
   "execution_count": null,
   "metadata": {},
   "outputs": [],
   "source": [
    "#test the function for translation with one of the species DNA sequence. It shows a sequence string.\n",
    "test_aa_seq_2 = nuc2aa_translate_function(test_seq)\n",
    "test_aa_seq_2"
   ]
  },
  {
   "cell_type": "markdown",
   "metadata": {},
   "source": [
    "### 4. Write a function that calculates the molecular weight of each amino acid sequence."
   ]
  },
  {
   "cell_type": "code",
   "execution_count": null,
   "metadata": {},
   "outputs": [],
   "source": [
    "from Bio.SeqUtils.ProtParam import ProteinAnalysis"
   ]
  },
  {
   "cell_type": "code",
   "execution_count": null,
   "metadata": {},
   "outputs": [],
   "source": [
    "# the following scripts are adapted from www.biopython.org/wiki/ProtParam\n",
    "def seq_molecular_weight(seq):\n",
    "    analysed_seq = ProteinAnalysis(seq)\n",
    "    protein_seq_molecular_weight =analysed_seq.molecular_weight()\n",
    "    return protein_seq_molecular_weight"
   ]
  },
  {
   "cell_type": "code",
   "execution_count": null,
   "metadata": {},
   "outputs": [],
   "source": [
    "#test the function with the calculation of molecular weight with one of the species' amino acid sequence.\n",
    "seq_molecular_weight(test_aa_seq_1)"
   ]
  },
  {
   "cell_type": "markdown",
   "metadata": {},
   "source": [
    "### 5. Write a function that computes the GC-content of each DNA sequence."
   ]
  },
  {
   "cell_type": "code",
   "execution_count": null,
   "metadata": {},
   "outputs": [],
   "source": [
    "import sys"
   ]
  },
  {
   "cell_type": "code",
   "execution_count": null,
   "metadata": {},
   "outputs": [],
   "source": [
    "#define a function to calculate the percentage of G and C in the DNA sequence.\n",
    "def DNA_GC_content(x):\n",
    "    GC_content = float((x.count('G') + x.count('C')))/len(x)*100\n",
    "    return GC_content"
   ]
  },
  {
   "cell_type": "code",
   "execution_count": null,
   "metadata": {},
   "outputs": [],
   "source": [
    "#test the function with calculation of G and C in Ursus spelaeus's DNA sequece.\n",
    "test_seq = sequence_data_dict['Ursus spelaeus']\n",
    "test_seq\n",
    "DNA_GC_content(test_seq)"
   ]
  },
  {
   "cell_type": "markdown",
   "metadata": {},
   "source": [
    "## Python scripts for the assignment"
   ]
  },
  {
   "cell_type": "markdown",
   "metadata": {},
   "source": [
    "### 6. Add two new columns to the bears DataFrame: (1) molecular weight and (2) GC content."
   ]
  },
  {
   "cell_type": "code",
   "execution_count": null,
   "metadata": {},
   "outputs": [],
   "source": [
    "bears_df = pd.read_csv(\"bears_mass.csv\") # Includes only data for body mass "
   ]
  },
  {
   "cell_type": "code",
   "execution_count": null,
   "metadata": {
    "scrolled": true
   },
   "outputs": [],
   "source": [
    "bears_df['molecular_weight']=\"NaN\" #add new column molecular_weight to dataframe for bears body mass with values NaN.\n",
    "bears_df['GC_content']=\"NaN\"#add new column GC_content to dataframe for bears body mass with values NaN.\n",
    "bears_df#check if new columns and new values are added."
   ]
  },
  {
   "cell_type": "markdown",
   "metadata": {},
   "source": [
    "### 7. Call your functions from step 3 (or step 2) and step 4 and fill in the new columns in the DataFrame."
   ]
  },
  {
   "cell_type": "code",
   "execution_count": null,
   "metadata": {},
   "outputs": [],
   "source": [
    "import pandas as pd"
   ]
  },
  {
   "cell_type": "code",
   "execution_count": null,
   "metadata": {},
   "outputs": [],
   "source": [
    "#use a for loop the input the molecular weight and GC contents to the new columns in the bear body mass dataframe.\n",
    "for index, row in bears_df.iterrows():#initialize a for loop with index and row in the bear body mass dataframe.\n",
    "    species = row['species']#define a variable with the species names using information from bears body mass dataframe\n",
    "    seq = sequence_data_dict[species]#use species names as key to call the value of sequence from cytb_seqs dictionary\n",
    "    bears_df.loc[index,'molecular_weight']= seq_molecular_weight(translate(seq))#call the function of translate and sequence_molecular with to add the molecular weight values to the new column molecular weight by index.\n",
    "    bears_df.loc[index,'GC_content']= DNA_GC_content(seq)#call the function DNA_GC_content to input values in GC_content column by index."
   ]
  },
  {
   "cell_type": "code",
   "execution_count": null,
   "metadata": {},
   "outputs": [],
   "source": [
    "#check the contents of bears body mass frame to see if the new values are added successfully.\n",
    "bears_df"
   ]
  },
  {
   "cell_type": "markdown",
   "metadata": {},
   "source": [
    "### 8. Plot a bar-chart of adult body mass per species. In your description of the graph, provide text that answers these questions: \n",
    "####     a. What is the largest bear species? \n",
    "####     b. What else is interesting about this species?"
   ]
  },
  {
   "cell_type": "markdown",
   "metadata": {},
   "source": [
    "### Answers for questions a and b: \n",
    "### a. Ursus spelaeus has the largest body mass.\n",
    "\n",
    "### b. Ursus spelaeus is also called cave bear. It lived in Europe and Asia. The sadest thing is cave bears became extinct about 24000 years ago.(I found those information from https://en.wikipedia.org/wiki/Cave_bear)"
   ]
  },
  {
   "cell_type": "code",
   "execution_count": null,
   "metadata": {},
   "outputs": [],
   "source": [
    "import matplotlib.pyplot as plt \n",
    "bears_df.plot(x='species', y='mass', kind='bar') #use a bar plot to show body mass for each bear species\n",
    "plt.show()#display the graph"
   ]
  },
  {
   "cell_type": "markdown",
   "metadata": {},
   "source": [
    "### 9. Plot a graph that shows the molecular weight as a function of GC content."
   ]
  },
  {
   "cell_type": "code",
   "execution_count": null,
   "metadata": {},
   "outputs": [],
   "source": [
    "import pandas as pd\n",
    "import matplotlib.pyplot as plt\n",
    "import seaborn as sns"
   ]
  },
  {
   "cell_type": "code",
   "execution_count": null,
   "metadata": {},
   "outputs": [],
   "source": [
    "#this is the magic command in matplotlib, it has to be in a cell by itselt."
   ]
  },
  {
   "cell_type": "code",
   "execution_count": null,
   "metadata": {},
   "outputs": [],
   "source": [
    "%matplotlib inline "
   ]
  },
  {
   "cell_type": "code",
   "execution_count": null,
   "metadata": {},
   "outputs": [],
   "source": [
    "sns.lmplot(\"GC_content\", \"molecular_weight\", data=bears_df, fit_reg=False)#use scatter plot to show the function molecular weight of GC_content."
   ]
  },
  {
   "cell_type": "markdown",
   "metadata": {},
   "source": [
    "### 10. Write the entire DataFrame to a new CSV file that includes your new columns."
   ]
  },
  {
   "cell_type": "code",
   "execution_count": null,
   "metadata": {},
   "outputs": [],
   "source": [
    "bears_df.to_csv('bears.csv', index=False, header=None)#export the bear mass, molecular weight and GC_content to a csv file."
   ]
  },
  {
   "cell_type": "markdown",
   "metadata": {},
   "source": [
    "### 11. BONUS: What other visualizations, functions or tasks would you do with this dataset? Add something interesting for fun. "
   ]
  },
  {
   "cell_type": "code",
   "execution_count": null,
   "metadata": {},
   "outputs": [],
   "source": [
    "#take a look at the molecualar weight variance across those nine species.\n",
    "bears_df.plot(x=\"species\", y=[\"molecular_weight\"], kind=\"bar\")\n",
    "#take a look at the body mass and GC contents variance together across those nine species.\n",
    "bears_df.plot(x=\"species\", y=['mass',\"GC_content\"], kind=\"bar\")\n",
    "#as we can see, molecular weight GC contents don't change across the species as I expected,not like the big variance in body mass and GC contents across the species."
   ]
  },
  {
   "cell_type": "code",
   "execution_count": null,
   "metadata": {},
   "outputs": [],
   "source": []
  }
 ],
 "metadata": {
  "kernelspec": {
   "display_name": "Python 3",
   "language": "python",
   "name": "python3"
  },
  "language_info": {
   "codemirror_mode": {
    "name": "ipython",
    "version": 3
   },
   "file_extension": ".py",
   "mimetype": "text/x-python",
   "name": "python",
   "nbconvert_exporter": "python",
   "pygments_lexer": "ipython3",
   "version": "3.7.0"
  }
 },
 "nbformat": 4,
 "nbformat_minor": 2
}
